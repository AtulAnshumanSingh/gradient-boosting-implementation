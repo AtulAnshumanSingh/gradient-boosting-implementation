{
 "cells": [
  {
   "cell_type": "markdown",
   "metadata": {},
   "source": [
    "## Implementing Gradient Boosting Machine for ID3 Algorithm Based Decision Tree Classifier"
   ]
  },
  {
   "cell_type": "code",
   "execution_count": 1,
   "metadata": {
    "collapsed": false
   },
   "outputs": [],
   "source": [
    "import numpy as np \n",
    "import pandas as pd\n",
    "import math \n",
    "import operator\n",
    "import random\n",
    "import warnings\n",
    "warnings.filterwarnings('ignore')\n",
    "\n",
    "%matplotlib inline\n",
    "import numpy as np\n",
    "import matplotlib.pyplot as plt                                # plotting\n",
    "from scipy.stats import multivariate_normal                    # multivariate Gaussian distribution\n",
    "import copy    # deep copies\n",
    "import csv"
   ]
  },
  {
   "cell_type": "code",
   "execution_count": 2,
   "metadata": {
    "collapsed": false
   },
   "outputs": [],
   "source": [
    "#Input data\n",
    "\n",
    "data=pd.read_csv(\"train.csv\")\n",
    "test=pd.read_csv(\"test.csv\")"
   ]
  },
  {
   "cell_type": "code",
   "execution_count": 3,
   "metadata": {
    "collapsed": true
   },
   "outputs": [],
   "source": [
    "#Subroutine to calculate Shannon Entorpy\n",
    "\n",
    "def entropy(p):\n",
    "    if p!=0:\n",
    "        return -p*np.log2(p)\n",
    "    else:\n",
    "        return 0        "
   ]
  },
  {
   "cell_type": "markdown",
   "metadata": {},
   "source": [
    "### Following code snippet implements calculation for information gain. This attribute is used to select the best feature to split the decision tree on."
   ]
  },
  {
   "cell_type": "code",
   "execution_count": 4,
   "metadata": {
    "collapsed": false
   },
   "outputs": [],
   "source": [
    "def info_gain(data,classes,feature):\n",
    "    #prepare list of feature classes\n",
    "    overallClasses={classes[0]:0,classes[1]:0}\n",
    "    FeatureClasses={}\n",
    "    for i in range(0,len(data)):\n",
    "        if (data.iloc[i][feature] not in FeatureClasses.keys()):\n",
    "            if pd.notnull(data.iloc[i][feature]):\n",
    "                FeatureClasses[data.iloc[i][feature]]=[0,0,0]\n",
    "    #loop through the data to count the number of +ve and -ve example for each features type in the feature column\n",
    "    #total number of examples corresponding to each feature type is sum of +ve and -ve\n",
    "    for i in range(0,len(data)):\n",
    "        if  pd.notnull(data.iloc[i][feature]):        \n",
    "            if data.iloc[i]['Survived']==classes[0]:\n",
    "                FeatureClasses[data.iloc[i][feature]][0]+=1\n",
    "                FeatureClasses[data.iloc[i][feature]][2]+=1\n",
    "            else:\n",
    "                FeatureClasses[data.iloc[i][feature]][1]+=1\n",
    "                FeatureClasses[data.iloc[i][feature]][2]+=1\n",
    "    #get the overall count\n",
    "    for keys in FeatureClasses.keys():\n",
    "        overallClasses[0]+=FeatureClasses[keys][0]\n",
    "        overallClasses[1]+=FeatureClasses[keys][1]\n",
    "        \n",
    "    overallEntropy=entropy(overallClasses[0]/len(data))+entropy(overallClasses[1]/len(data))\n",
    "    #final entropy after dividing the data on the basis of feature\n",
    "    FinalEntropy=0\n",
    "    for keys in FeatureClasses.keys():\n",
    "        FinalEntropy+=entropy(FeatureClasses[keys][0]/FeatureClasses[keys][2])\n",
    "    \n",
    "    InformationGain=overallEntropy-FinalEntropy\n",
    "        \n",
    "    return InformationGain"
   ]
  },
  {
   "cell_type": "markdown",
   "metadata": {},
   "source": [
    "### Creating leaf nodes"
   ]
  },
  {
   "cell_type": "code",
   "execution_count": 5,
   "metadata": {
    "collapsed": true
   },
   "outputs": [],
   "source": [
    "def create_leaf(data):\n",
    "    leaf = {'splitting_feature' : None,\n",
    "            'children' : None,\n",
    "            'is_leaf':  True}\n",
    "    \n",
    "    ones=data['Survived'][data['Survived']==1].count()\n",
    "    zeroes=data['Survived'][data['Survived']==0].count()\n",
    "    \n",
    "    if ones>zeroes:\n",
    "        leaf['Prediction']=1\n",
    "    else:\n",
    "        leaf['Prediction']=0\n",
    "    \n",
    "    return leaf"
   ]
  },
  {
   "cell_type": "markdown",
   "metadata": {},
   "source": [
    "### Subroutine to calculate best feature to split upon. This subroutine uses \"info_gain\" subroutine implemented above "
   ]
  },
  {
   "cell_type": "code",
   "execution_count": 6,
   "metadata": {
    "collapsed": true
   },
   "outputs": [],
   "source": [
    "def best_splitting_feature(data):\n",
    "    Features=list(data)\n",
    "    Features.remove('Survived')\n",
    "    FeatureEntropies={}\n",
    "    for colNames in Features:\n",
    "        FeatureEntropies[colNames]=info_gain(data,[0,1],colNames)\n",
    "    \n",
    "    return max(FeatureEntropies, key=FeatureEntropies.get)"
   ]
  },
  {
   "cell_type": "markdown",
   "metadata": {},
   "source": [
    "### Subroutine for recursively creating the tree"
   ]
  },
  {
   "cell_type": "code",
   "execution_count": 7,
   "metadata": {
    "collapsed": false
   },
   "outputs": [],
   "source": [
    "def create_tree(data, depth, maxdepth):\n",
    "    if(len(list(data))==1):\n",
    "        return create_leaf(data)\n",
    "    \n",
    "    if(len(data)==0):\n",
    "        return create_leaf(data)\n",
    "    \n",
    "    if(depth>=maxdepth):\n",
    "        return create_leaf(data)\n",
    "\n",
    "    splitting_feature=best_splitting_feature(data)\n",
    "    uniqueFeatures=data[splitting_feature][pd.notnull(data[splitting_feature])].unique()\n",
    "    \n",
    "    uniqueFeaturesDict={}\n",
    "    children={}\n",
    "    for uqFea in uniqueFeatures:\n",
    "        children[uqFea]=None\n",
    "        uniqueFeaturesDict[uqFea]=data[data[splitting_feature]==uqFea]\n",
    "        uniqueFeaturesDict[uqFea]=uniqueFeaturesDict[uqFea].drop(splitting_feature,axis=1)\n",
    "    \n",
    "    for uqFea in uniqueFeatures:\n",
    "        children[uqFea]=create_tree(uniqueFeaturesDict[uqFea],depth+1, maxdepth)\n",
    "        \n",
    "    return {'splitting_feature' : splitting_feature,\n",
    "            'children': children,\n",
    "            'is_leaf':  False}"
   ]
  },
  {
   "cell_type": "code",
   "execution_count": 172,
   "metadata": {
    "collapsed": false
   },
   "outputs": [],
   "source": [
    "data['e'] = pd.Series(np.random.randn(len(data)), index=data.index)\n",
    "msk = np.random.rand(len(data['e'])) <= 0.7\n",
    "data_train=data[msk]\n",
    "data_test=data[~msk]\n",
    "#features = ['Embarked','Pclass','Survived']\n",
    "#tree=create_tree(data_train[features],0,2)"
   ]
  },
  {
   "cell_type": "code",
   "execution_count": 167,
   "metadata": {
    "collapsed": false
   },
   "outputs": [],
   "source": [
    "features = ['Embarked','Pclass','Survived','SibSp','Parch']\n",
    "tree=create_tree(data_train[features],0,1)"
   ]
  },
  {
   "cell_type": "markdown",
   "metadata": {},
   "source": [
    "###  Following snippet implements various subroutines to plot a decision tree. It uses matplotlib annotations."
   ]
  },
  {
   "cell_type": "code",
   "execution_count": 10,
   "metadata": {
    "collapsed": false
   },
   "outputs": [],
   "source": [
    "def getNumLeafs(node):\n",
    "    if(node['is_leaf']==True):\n",
    "        return 1\n",
    "    count=0\n",
    "    for child in node['children'].keys():\n",
    "        count+=getNumLeafs(node['children'][child])\n",
    "    \n",
    "    return count\n",
    "\n",
    "def getTreeDepth(node):\n",
    "    if(node['is_leaf']==True):\n",
    "        return 1\n",
    "    \n",
    "    maxDepth=0\n",
    "    for child in node['children'].keys():\n",
    "        depth=1+getTreeDepth(node['children'][child])\n",
    "        if depth>maxDepth:\n",
    "            maxDepth=depth\n",
    "    return maxDepth\n",
    "\n",
    "decisionNode = dict(boxstyle=\"sawtooth\", fc=\"0.8\")\n",
    "leafNode = dict(boxstyle=\"round4\", fc=\"0.8\")\n",
    "arrow_args = dict(arrowstyle=\"<-\")\n",
    "\n",
    "def plotNode(nodeTxt, centerPt, parentPt, nodeType):\n",
    "    createPlot.ax1.annotate(nodeTxt, xy=parentPt,\n",
    "    xycoords='axes fraction',\n",
    "    xytext=centerPt, textcoords='axes fraction',\n",
    "    va=\"center\", ha=\"center\", bbox=nodeType, arrowprops=arrow_args)\n",
    "\n",
    "def plotMidText(cntrPt, parentPt, txtString):\n",
    "    xMid = (parentPt[0]-cntrPt[0])/2.0 + cntrPt[0]\n",
    "    yMid = (parentPt[1]-cntrPt[1])/2.0 + cntrPt[1]\n",
    "    createPlot.ax1.text(xMid, yMid, txtString)\n",
    "    \n",
    "def plotTree(myTree, parentPt, nodeTxt):\n",
    "    numLeafs = getNumLeafs(myTree)\n",
    "    getTreeDepth(myTree)\n",
    "    firstStr = myTree['splitting_feature']\n",
    "    cntrPt = (plotTree.xOff + (1.0 + float(numLeafs))/2.0/plotTree.totalW,plotTree.yOff)\n",
    "    plotMidText(cntrPt, parentPt, nodeTxt)\n",
    "    plotNode(firstStr, cntrPt, parentPt, decisionNode)\n",
    "    secondDict = myTree['children']\n",
    "    plotTree.yOff = plotTree.yOff - 1.0/plotTree.totalD\n",
    "    for key in secondDict.keys():\n",
    "        if secondDict[key]['is_leaf']==False:\n",
    "            plotTree(secondDict[key],cntrPt,str(key))\n",
    "        else:\n",
    "            plotTree.xOff = plotTree.xOff + 1.0/plotTree.totalW\n",
    "            plotNode(secondDict[key]['Prediction'], (plotTree.xOff, plotTree.yOff),cntrPt, leafNode)\n",
    "            plotMidText((plotTree.xOff, plotTree.yOff), cntrPt, str(key))\n",
    "    plotTree.yOff = plotTree.yOff + 1.0/plotTree.totalD\n",
    "    \n",
    "def createPlot(inTree):\n",
    "    fig = plt.figure(1, facecolor='white')\n",
    "    fig.clf()\n",
    "    axprops = dict(xticks=[], yticks=[])\n",
    "    createPlot.ax1 = plt.subplot(111, frameon=False, **axprops)\n",
    "    plotTree.totalW = float(getNumLeafs(inTree))\n",
    "    plotTree.totalD = float(getTreeDepth(inTree))\n",
    "    plotTree.xOff = -0.5/plotTree.totalW; plotTree.yOff = 1.0;\n",
    "    plotTree(inTree, (0.5,1.0), '')\n",
    "    plt.show()"
   ]
  },
  {
   "cell_type": "code",
   "execution_count": 168,
   "metadata": {
    "collapsed": false
   },
   "outputs": [
    {
     "data": {
      "image/png": "[encoded data removed]",
      "text/plain": [
       "<matplotlib.figure.Figure at 0xb856b70>"
      ]
     },
     "metadata": {},
     "output_type": "display_data"
    }
   ],
   "source": [
    "createPlot(tree)"
   ]
  },
  {
   "cell_type": "markdown",
   "metadata": {},
   "source": [
    "### Subroutine to classify new data points using the above desicion tree"
   ]
  },
  {
   "cell_type": "code",
   "execution_count": 151,
   "metadata": {
    "collapsed": false
   },
   "outputs": [],
   "source": [
    "def classify(tree, data):\n",
    "    if(tree['is_leaf']==True):\n",
    "        return tree['Prediction']\n",
    "    \n",
    "    if data[tree['splitting_feature']] not in tree['children'].keys():\n",
    "        return 0\n",
    "    \n",
    "    featureVal=None\n",
    "    for feats in tree['children'].keys():\n",
    "        if data[tree['splitting_feature']]==feats:\n",
    "            featureVal=feats \n",
    "    prediction=classify(tree['children'][featureVal],data)\n",
    "    \n",
    "    return prediction    "
   ]
  },
  {
   "cell_type": "markdown",
   "metadata": {},
   "source": [
    "## Checking accuracy of built tree"
   ]
  },
  {
   "cell_type": "code",
   "execution_count": 173,
   "metadata": {
    "collapsed": false
   },
   "outputs": [
    {
     "name": "stdout",
     "output_type": "stream",
     "text": [
      "65.0909090909091\n"
     ]
    }
   ],
   "source": [
    "count=0\n",
    "for i in range(0,len(data_test)):\n",
    "    pred=classify(tree,data_test.iloc[i])\n",
    "    if pred==data_test.iloc[i]['Survived']:\n",
    "        count+=1\n",
    "        \n",
    "print(count/len(data_test)*100)"
   ]
  },
  {
   "cell_type": "markdown",
   "metadata": {},
   "source": [
    "#### Result:\n",
    "\n",
    "This decision tree stump is a weak learner/classifier. Further below we will try to implement a Gradient Bossting Machine to form an ensemble of a number of such weak classifiers and use it predict on the same test data set. "
   ]
  },
  {
   "cell_type": "markdown",
   "metadata": {},
   "source": [
    "## Classifying Titanic data on real test data"
   ]
  },
  {
   "cell_type": "code",
   "execution_count": 21,
   "metadata": {
    "collapsed": false
   },
   "outputs": [],
   "source": [
    "features = ['Embarked','Pclass','SibSp','Parch']\n",
    "test=test[features]\n",
    "pred=[]\n",
    "for i in range(0,len(test)): \n",
    "    pred.append(classify(tree,test.iloc[i]))      "
   ]
  },
  {
   "cell_type": "code",
   "execution_count": 22,
   "metadata": {
    "collapsed": false
   },
   "outputs": [],
   "source": [
    "with open(\"output1.csv\", \"w\") as f:\n",
    "    writer = csv.writer(f,lineterminator='\\n')\n",
    "    writer.writerows([pred])"
   ]
  },
  {
   "cell_type": "markdown",
   "metadata": {},
   "source": [
    "### Gradient Boosting Routine\n",
    "\n",
    "This routine has been implemented on the basis the algorithm given in ***Elements of Statistical Learning***"
   ]
  },
  {
   "cell_type": "code",
   "execution_count": 14,
   "metadata": {
    "collapsed": true
   },
   "outputs": [],
   "source": [
    "def best_splitting_feature_boosting(data):\n",
    "    Features=list(data)\n",
    "    Features.remove('Survived')\n",
    "    Features.remove('Residuals')\n",
    "    FeatureEntropies={}\n",
    "    for colNames in Features:\n",
    "        FeatureEntropies[colNames]=info_gain(data,[0,1],colNames)\n",
    "    \n",
    "    return max(FeatureEntropies, key=FeatureEntropies.get)"
   ]
  },
  {
   "cell_type": "code",
   "execution_count": 15,
   "metadata": {
    "collapsed": true
   },
   "outputs": [],
   "source": [
    "def create_tree_boosting(data, depth, maxdepth):\n",
    "    if(len(list(data))==1):\n",
    "        return create_leaf_boosting(data)\n",
    "    \n",
    "    if(len(data)==0):\n",
    "        return create_leaf_boosting(data)\n",
    "    \n",
    "    if(depth>=maxdepth):\n",
    "        return create_leaf_boosting(data)\n",
    "\n",
    "    splitting_feature=best_splitting_feature_boosting(data)\n",
    "    uniqueFeatures=data[splitting_feature][pd.notnull(data[splitting_feature])].unique()\n",
    "    \n",
    "    uniqueFeaturesDict={}\n",
    "    children={}\n",
    "    for uqFea in uniqueFeatures:\n",
    "        children[uqFea]=None\n",
    "        uniqueFeaturesDict[uqFea]=data[data[splitting_feature]==uqFea]\n",
    "        uniqueFeaturesDict[uqFea]=uniqueFeaturesDict[uqFea].drop(splitting_feature,axis=1)\n",
    "    \n",
    "    for uqFea in uniqueFeatures:\n",
    "        children[uqFea]=create_tree_boosting(uniqueFeaturesDict[uqFea],depth+1, maxdepth)\n",
    "        \n",
    "    return {'splitting_feature' : splitting_feature,\n",
    "            'children': children,\n",
    "            'is_leaf':  False}"
   ]
  },
  {
   "cell_type": "code",
   "execution_count": 16,
   "metadata": {
    "collapsed": false
   },
   "outputs": [],
   "source": [
    "def create_leaf_boosting(data):\n",
    "    leaf = {'splitting_feature' : None,\n",
    "            'children' : None,\n",
    "            'is_leaf':  True}\n",
    "    \n",
    "    leaf['Prediction']=np.mean(data['Residuals'])\n",
    "    \n",
    "    return leaf"
   ]
  },
  {
   "cell_type": "code",
   "execution_count": 17,
   "metadata": {
    "collapsed": true
   },
   "outputs": [],
   "source": [
    "def add_gamma(tree, data):\n",
    "    \n",
    "    if(tree['is_leaf']==True):\n",
    "        tree['gamma']=(1/2)*(sum(data['Residuals'])/sum(abs(data['Residuals'])*(1-abs(data['Residuals']))))\n",
    "        return tree\n",
    "    \n",
    "    for feats in tree['children'].keys():\n",
    "        add_gamma(tree['children'][feats],data[data[tree['splitting_feature']]==feats])\n",
    "    \n",
    "    return tree"
   ]
  },
  {
   "cell_type": "code",
   "execution_count": 18,
   "metadata": {
    "collapsed": true
   },
   "outputs": [],
   "source": [
    "def return_gamma(tree, data):\n",
    "    if(tree['is_leaf']==True):\n",
    "        return tree['gamma']\n",
    "    \n",
    "    if data[tree['splitting_feature']] not in tree['children'].keys():\n",
    "        return 0\n",
    "    \n",
    "    featureVal=None\n",
    "    for feats in tree['children'].keys():\n",
    "        if data[tree['splitting_feature']]==feats:\n",
    "            featureVal=feats \n",
    "    prediction=return_gamma(tree['children'][featureVal],data)\n",
    "    \n",
    "    return prediction "
   ]
  },
  {
   "cell_type": "code",
   "execution_count": 117,
   "metadata": {
    "collapsed": false
   },
   "outputs": [],
   "source": [
    "def GBM(data,ls):\n",
    "    data_train=data.sample(n=707)\n",
    "    ls.remove('Survived')\n",
    "    ls.remove('Residuals')\n",
    "    M=5\n",
    "    #Note: Learners are basically trees\n",
    "    learners = [0]*M\n",
    "    #Note: f are classifiers\n",
    "    f = [0]*(len(data_train)+1)\n",
    "    for i in range(0,M):\n",
    "        rand_smpl = [ ls[i] for i in sorted(random.sample(range(len(ls)), 1)) ]\n",
    "        rand_smpl.append('Survived')\n",
    "        rand_smpl.append('Residuals')\n",
    "        data_train=data_train[rand_smpl]\n",
    "        r = [0]*len(data_train)\n",
    "        _f = [f * -1 for f in f]\n",
    "        p = np.exp(f)/(np.exp(f)+np.exp(_f))\n",
    "        #print(\"Probability of 0th data at\",i,p[0])\n",
    "        for k in range(0,len(data_train)):\n",
    "            #Note: calculate residuals for each data point\n",
    "            r[k]=data_train.iloc[k]['Survived']-p[k]  \n",
    "        #Note: add these reisduals in the data\n",
    "        data_train['Residuals']=r\n",
    "        #Note: Fit a regression tree to the residuals\n",
    "        learners[i]=create_tree_boosting(data_train,0,1)\n",
    "        #createPlot(learners[i])\n",
    "        #Note: Compute gamma for every leaf node\n",
    "        learners[i]=add_gamma(learners[i],data_train)\n",
    "        for k in range(0,len(data_train)):\n",
    "            f[k]=f[k]+return_gamma(learners[i],data_train.iloc[k])\n",
    "        data_train=data.sample(n=707)\n",
    "    return learners    "
   ]
  },
  {
   "cell_type": "code",
   "execution_count": 132,
   "metadata": {
    "collapsed": false
   },
   "outputs": [],
   "source": [
    "#data_train=data_train[pd.notnull(data_train['Embarked'])]\n",
    "features = ['Sex','Embarked','Pclass','Survived','Residuals','SibSp','Parch']\n",
    "data_train['Residuals']=0\n",
    "boost_trees=GBM(data_train[features],features)"
   ]
  },
  {
   "cell_type": "code",
   "execution_count": 131,
   "metadata": {
    "collapsed": false
   },
   "outputs": [
    {
     "data": {
      "image/png": "[encoded data removed]",
      "text/plain": [
       "<matplotlib.figure.Figure at 0xaefcb00>"
      ]
     },
     "metadata": {},
     "output_type": "display_data"
    },
    {
     "data": {
      "image/png": "[encoded data removed]",
      "text/plain": [
       "<matplotlib.figure.Figure at 0xaf3ea20>"
      ]
     },
     "metadata": {},
     "output_type": "display_data"
    },
    {
     "data": {
      "image/png": "[encoded data removed]",
      "text/plain": [
       "<matplotlib.figure.Figure at 0xaa79ac8>"
      ]
     },
     "metadata": {},
     "output_type": "display_data"
    },
    {
     "data": {
      "image/png": "[encoded data removed]",
      "text/plain": [
       "<matplotlib.figure.Figure at 0xaa635c0>"
      ]
     },
     "metadata": {},
     "output_type": "display_data"
    },
    {
     "data": {
      "image/png": "[encoded data removed]",
      "text/plain": [
       "<matplotlib.figure.Figure at 0xb7c5cf8>"
      ]
     },
     "metadata": {},
     "output_type": "display_data"
    }
   ],
   "source": [
    "for i in boost_trees:\n",
    "    createPlot(i)"
   ]
  },
  {
   "cell_type": "markdown",
   "metadata": {},
   "source": [
    "### Checking accuracy of the Boosted Machine"
   ]
  },
  {
   "cell_type": "code",
   "execution_count": 119,
   "metadata": {
    "collapsed": false
   },
   "outputs": [],
   "source": [
    "def classify_boost(trees,data):\n",
    "    f=0\n",
    "    #print(len(trees))\n",
    "    for i in range(0,len(trees)):\n",
    "        f=f+return_gamma(trees[i],data) \n",
    "    #print(f)\n",
    "    if f>=0:\n",
    "        return 1\n",
    "    else:\n",
    "        return 0"
   ]
  },
  {
   "cell_type": "code",
   "execution_count": 133,
   "metadata": {
    "collapsed": false
   },
   "outputs": [
    {
     "name": "stdout",
     "output_type": "stream",
     "text": [
      "78.2122905027933\n"
     ]
    }
   ],
   "source": [
    "features2 = ['Sex','Embarked','Pclass','Survived','SibSp','Parch']\n",
    "data_test2=data_test[features2][pd.notnull(data_test['Embarked'])]\n",
    "count2=0\n",
    "for i in range(0,len(data_test2)):\n",
    "    pred2=classify_boost(boost_trees,data_test2.iloc[i])\n",
    "    #print(pred2)\n",
    "    #print(data_test.iloc[i]['Survived'])\n",
    "    if pred2==data_test2.iloc[i]['Survived']:\n",
    "        count2+=1\n",
    "        \n",
    "print(count2/len(data_test2)*100)"
   ]
  },
  {
   "cell_type": "markdown",
   "metadata": {},
   "source": [
    "#### Result:\n",
    "\n",
    "The boosted machine is giving a success rate of 78.21 % on the unseen test data. For the same unseen test data, desicion tree stump gave a success rate of 65.1 %, which has been given above. This amounts to a betterment of ~25 % in the success rate, which elaborates the effectiveness of the boosted machine. "
   ]
  },
  {
   "cell_type": "code",
   "execution_count": null,
   "metadata": {
    "collapsed": true
   },
   "outputs": [],
   "source": [
    "features = ['Sex','Embarked','Pclass']\n",
    "test=test[features]\n",
    "pred=[]\n",
    "for i in range(0,len(test)): \n",
    "    pred.append(classify_boost(boost_trees,test.iloc[i])) "
   ]
  },
  {
   "cell_type": "code",
   "execution_count": 91,
   "metadata": {
    "collapsed": false
   },
   "outputs": [],
   "source": [
    "with open(\"output1.csv\", \"w\") as f:\n",
    "    writer = csv.writer(f,lineterminator='\\n')\n",
    "    writer.writerows([pred])"
   ]
  }
 ],
 "metadata": {
  "anaconda-cloud": {},
  "kernelspec": {
   "display_name": "Python [Root]",
   "language": "python",
   "name": "Python [Root]"
  },
  "language_info": {
   "codemirror_mode": {
    "name": "ipython",
    "version": 3
   },
   "file_extension": ".py",
   "mimetype": "text/x-python",
   "name": "python",
   "nbconvert_exporter": "python",
   "pygments_lexer": "ipython3",
   "version": "3.5.2"
  }
 },
 "nbformat": 4,
 "nbformat_minor": 0
}
